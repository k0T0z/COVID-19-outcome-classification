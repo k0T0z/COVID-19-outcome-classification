{
 "cells": [
  {
   "cell_type": "markdown",
   "metadata": {},
   "source": [
    "# Importing the libraries"
   ]
  },
  {
   "cell_type": "code",
   "execution_count": 1,
   "metadata": {},
   "outputs": [],
   "source": [
    "import math\n",
    "import pandas as pd\n",
    "import numpy as np\n",
    "import matplotlib.pyplot as plt\n",
    "from sklearn.base import ClassifierMixin\n",
    "from sklearn.preprocessing import StandardScaler\n",
    "from sklearn.model_selection import train_test_split, cross_validate\n",
    "from sklearn.tree import DecisionTreeClassifier\n",
    "from sklearn.svm import SVC\n",
    "from sklearn.metrics import classification_report, ConfusionMatrixDisplay, RocCurveDisplay\n",
    "import warnings\n",
    "warnings.filterwarnings(\"ignore\") # This is to ignore warnings coming out of models due to low number of epochs, ...etc\n"
   ]
  },
  {
   "cell_type": "code",
   "execution_count": 2,
   "metadata": {},
   "outputs": [],
   "source": [
    "random_state = 42\n",
    "n_jobs=-1\n"
   ]
  },
  {
   "cell_type": "markdown",
   "metadata": {},
   "source": [
    "# Importing the dataset, preprocessing and analyzing it"
   ]
  },
  {
   "cell_type": "markdown",
   "metadata": {},
   "source": [
    "## Importing the dataset"
   ]
  },
  {
   "cell_type": "code",
   "execution_count": 3,
   "metadata": {},
   "outputs": [],
   "source": [
    "dataset = pd.read_csv(\"datasets/COVID19_outcome.csv\")\n"
   ]
  },
  {
   "cell_type": "markdown",
   "metadata": {},
   "source": [
    "Let's view the shape of the dataset."
   ]
  },
  {
   "cell_type": "code",
   "execution_count": 4,
   "metadata": {},
   "outputs": [
    {
     "data": {
      "text/plain": [
       "(863, 15)"
      ]
     },
     "execution_count": 4,
     "metadata": {},
     "output_type": "execute_result"
    }
   ],
   "source": [
    "dataset.shape\n"
   ]
  },
  {
   "cell_type": "markdown",
   "metadata": {},
   "source": [
    "As described inside the project description, we have 14 features but as shown above, the shape of the dataset is (863, 15). Let's view the first 5 rows of the dataset."
   ]
  },
  {
   "cell_type": "code",
   "execution_count": 5,
   "metadata": {},
   "outputs": [
    {
     "data": {
      "text/html": [
       "<div>\n",
       "<style scoped>\n",
       "    .dataframe tbody tr th:only-of-type {\n",
       "        vertical-align: middle;\n",
       "    }\n",
       "\n",
       "    .dataframe tbody tr th {\n",
       "        vertical-align: top;\n",
       "    }\n",
       "\n",
       "    .dataframe thead th {\n",
       "        text-align: right;\n",
       "    }\n",
       "</style>\n",
       "<table border=\"1\" class=\"dataframe\">\n",
       "  <thead>\n",
       "    <tr style=\"text-align: right;\">\n",
       "      <th></th>\n",
       "      <th>Unnamed: 0</th>\n",
       "      <th>location</th>\n",
       "      <th>country</th>\n",
       "      <th>gender</th>\n",
       "      <th>age</th>\n",
       "      <th>vis_wuhan</th>\n",
       "      <th>from_wuhan</th>\n",
       "      <th>symptom1</th>\n",
       "      <th>symptom2</th>\n",
       "      <th>symptom3</th>\n",
       "      <th>symptom4</th>\n",
       "      <th>symptom5</th>\n",
       "      <th>symptom6</th>\n",
       "      <th>diff_sym_hos</th>\n",
       "      <th>result</th>\n",
       "    </tr>\n",
       "  </thead>\n",
       "  <tbody>\n",
       "    <tr>\n",
       "      <th>0</th>\n",
       "      <td>0</td>\n",
       "      <td>104</td>\n",
       "      <td>8</td>\n",
       "      <td>1</td>\n",
       "      <td>66.0</td>\n",
       "      <td>1</td>\n",
       "      <td>0</td>\n",
       "      <td>14</td>\n",
       "      <td>31</td>\n",
       "      <td>19</td>\n",
       "      <td>12</td>\n",
       "      <td>3</td>\n",
       "      <td>1</td>\n",
       "      <td>8</td>\n",
       "      <td>1</td>\n",
       "    </tr>\n",
       "    <tr>\n",
       "      <th>1</th>\n",
       "      <td>1</td>\n",
       "      <td>101</td>\n",
       "      <td>8</td>\n",
       "      <td>0</td>\n",
       "      <td>56.0</td>\n",
       "      <td>0</td>\n",
       "      <td>1</td>\n",
       "      <td>14</td>\n",
       "      <td>31</td>\n",
       "      <td>19</td>\n",
       "      <td>12</td>\n",
       "      <td>3</td>\n",
       "      <td>1</td>\n",
       "      <td>0</td>\n",
       "      <td>0</td>\n",
       "    </tr>\n",
       "    <tr>\n",
       "      <th>2</th>\n",
       "      <td>2</td>\n",
       "      <td>137</td>\n",
       "      <td>8</td>\n",
       "      <td>1</td>\n",
       "      <td>46.0</td>\n",
       "      <td>0</td>\n",
       "      <td>1</td>\n",
       "      <td>14</td>\n",
       "      <td>31</td>\n",
       "      <td>19</td>\n",
       "      <td>12</td>\n",
       "      <td>3</td>\n",
       "      <td>1</td>\n",
       "      <td>13</td>\n",
       "      <td>0</td>\n",
       "    </tr>\n",
       "    <tr>\n",
       "      <th>3</th>\n",
       "      <td>3</td>\n",
       "      <td>116</td>\n",
       "      <td>8</td>\n",
       "      <td>0</td>\n",
       "      <td>60.0</td>\n",
       "      <td>1</td>\n",
       "      <td>0</td>\n",
       "      <td>14</td>\n",
       "      <td>31</td>\n",
       "      <td>19</td>\n",
       "      <td>12</td>\n",
       "      <td>3</td>\n",
       "      <td>1</td>\n",
       "      <td>0</td>\n",
       "      <td>0</td>\n",
       "    </tr>\n",
       "    <tr>\n",
       "      <th>4</th>\n",
       "      <td>4</td>\n",
       "      <td>116</td>\n",
       "      <td>8</td>\n",
       "      <td>1</td>\n",
       "      <td>58.0</td>\n",
       "      <td>0</td>\n",
       "      <td>0</td>\n",
       "      <td>14</td>\n",
       "      <td>31</td>\n",
       "      <td>19</td>\n",
       "      <td>12</td>\n",
       "      <td>3</td>\n",
       "      <td>1</td>\n",
       "      <td>0</td>\n",
       "      <td>0</td>\n",
       "    </tr>\n",
       "  </tbody>\n",
       "</table>\n",
       "</div>"
      ],
      "text/plain": [
       "   Unnamed: 0  location  country  gender   age  vis_wuhan  from_wuhan  \\\n",
       "0           0       104        8       1  66.0          1           0   \n",
       "1           1       101        8       0  56.0          0           1   \n",
       "2           2       137        8       1  46.0          0           1   \n",
       "3           3       116        8       0  60.0          1           0   \n",
       "4           4       116        8       1  58.0          0           0   \n",
       "\n",
       "   symptom1  symptom2  symptom3  symptom4  symptom5  symptom6  diff_sym_hos  \\\n",
       "0        14        31        19        12         3         1             8   \n",
       "1        14        31        19        12         3         1             0   \n",
       "2        14        31        19        12         3         1            13   \n",
       "3        14        31        19        12         3         1             0   \n",
       "4        14        31        19        12         3         1             0   \n",
       "\n",
       "   result  \n",
       "0       1  \n",
       "1       0  \n",
       "2       0  \n",
       "3       0  \n",
       "4       0  "
      ]
     },
     "execution_count": 5,
     "metadata": {},
     "output_type": "execute_result"
    }
   ],
   "source": [
    "dataset.head()\n"
   ]
  },
  {
   "cell_type": "markdown",
   "metadata": {},
   "source": [
    "As shown above there is an extra column called \"Unnamed: 0\" which contains the index of each row. Let's drop this column.\n",
    "\n",
    "Note: Pandas named this column as it doesn't have a name."
   ]
  },
  {
   "cell_type": "code",
   "execution_count": 6,
   "metadata": {},
   "outputs": [],
   "source": [
    "dataset.drop([\"Unnamed: 0\"], axis=1, inplace=True)\n"
   ]
  },
  {
   "cell_type": "markdown",
   "metadata": {},
   "source": [
    "Now let's view the shape again."
   ]
  },
  {
   "cell_type": "code",
   "execution_count": 7,
   "metadata": {},
   "outputs": [
    {
     "data": {
      "text/plain": [
       "(863, 14)"
      ]
     },
     "execution_count": 7,
     "metadata": {},
     "output_type": "execute_result"
    }
   ],
   "source": [
    "dataset.shape\n"
   ]
  },
  {
   "cell_type": "markdown",
   "metadata": {},
   "source": [
    "Much better!!!"
   ]
  },
  {
   "cell_type": "markdown",
   "metadata": {},
   "source": [
    "Now let's view some information about the dataset."
   ]
  },
  {
   "cell_type": "code",
   "execution_count": 8,
   "metadata": {},
   "outputs": [
    {
     "name": "stdout",
     "output_type": "stream",
     "text": [
      "<class 'pandas.core.frame.DataFrame'>\n",
      "RangeIndex: 863 entries, 0 to 862\n",
      "Data columns (total 14 columns):\n",
      " #   Column        Non-Null Count  Dtype  \n",
      "---  ------        --------------  -----  \n",
      " 0   location      863 non-null    int64  \n",
      " 1   country       863 non-null    int64  \n",
      " 2   gender        863 non-null    int64  \n",
      " 3   age           863 non-null    float64\n",
      " 4   vis_wuhan     863 non-null    int64  \n",
      " 5   from_wuhan    863 non-null    int64  \n",
      " 6   symptom1      863 non-null    int64  \n",
      " 7   symptom2      863 non-null    int64  \n",
      " 8   symptom3      863 non-null    int64  \n",
      " 9   symptom4      863 non-null    int64  \n",
      " 10  symptom5      863 non-null    int64  \n",
      " 11  symptom6      863 non-null    int64  \n",
      " 12  diff_sym_hos  863 non-null    int64  \n",
      " 13  result        863 non-null    int64  \n",
      "dtypes: float64(1), int64(13)\n",
      "memory usage: 94.5 KB\n"
     ]
    }
   ],
   "source": [
    "dataset.info()\n"
   ]
  },
  {
   "cell_type": "markdown",
   "metadata": {},
   "source": [
    "Let's check if there are any missing values."
   ]
  },
  {
   "cell_type": "code",
   "execution_count": 9,
   "metadata": {},
   "outputs": [
    {
     "data": {
      "text/plain": [
       "location        0\n",
       "country         0\n",
       "gender          0\n",
       "age             0\n",
       "vis_wuhan       0\n",
       "from_wuhan      0\n",
       "symptom1        0\n",
       "symptom2        0\n",
       "symptom3        0\n",
       "symptom4        0\n",
       "symptom5        0\n",
       "symptom6        0\n",
       "diff_sym_hos    0\n",
       "result          0\n",
       "dtype: int64"
      ]
     },
     "execution_count": 9,
     "metadata": {},
     "output_type": "execute_result"
    }
   ],
   "source": [
    "dataset.isna().sum()\n"
   ]
  },
  {
   "cell_type": "markdown",
   "metadata": {},
   "source": [
    "Now Let's find out if there are any duplicate rows."
   ]
  },
  {
   "cell_type": "code",
   "execution_count": 10,
   "metadata": {},
   "outputs": [
    {
     "name": "stdout",
     "output_type": "stream",
     "text": [
      "Duplicates :  168\n"
     ]
    }
   ],
   "source": [
    "duplicates_count = 0\n",
    "for x in dataset.duplicated():\n",
    "    if x == True:\n",
    "        duplicates_count += 1\n",
    "\n",
    "print(\"Duplicates : \", duplicates_count)\n"
   ]
  },
  {
   "cell_type": "markdown",
   "metadata": {},
   "source": [
    "We have 168 rows that are duplicates. In this particular application we can't drop them."
   ]
  },
  {
   "cell_type": "code",
   "execution_count": 11,
   "metadata": {},
   "outputs": [],
   "source": [
    "# index = 0\n",
    "# for x in dataset.duplicated():\n",
    "#     if (x == True):\n",
    "#         dataset.drop([index], axis=0, inplace= True)\n",
    "#     index+=1\n"
   ]
  },
  {
   "cell_type": "markdown",
   "metadata": {},
   "source": [
    "Let's view the duplicate rows again to make sure they are dropped.\n"
   ]
  },
  {
   "cell_type": "code",
   "execution_count": 12,
   "metadata": {},
   "outputs": [],
   "source": [
    "# duplicates_count = 0\n",
    "# for x in dataset.duplicated():\n",
    "#     if (x == True):\n",
    "#         duplicates_count+=1\n",
    "\n",
    "# print(\"Duplicates : \", duplicates_count)\n"
   ]
  },
  {
   "cell_type": "markdown",
   "metadata": {},
   "source": [
    "Note that the `.duplicated()` method ignores (marks as False) the first occurence of the duplicated rows and marks the rest as True. For example:\n",
    "\n",
    "```python\n",
    "temp = [[1,4,1],\n",
    "        [1,5,1],\n",
    "        [3,6,0],\n",
    "        [8,4,1],\n",
    "        [1,4,1],\n",
    "        [1,4,0],\n",
    "        [3,6,0],\n",
    "        [5,1,1],\n",
    "        [9,4,0],\n",
    "        [1,7,0]]\n",
    "pd.DataFrame(temp).duplicated()\n",
    "```\n",
    "\n",
    "will return:\n",
    "\n",
    "```\n",
    "0    False\n",
    "1    False\n",
    "2    False\n",
    "3    False\n",
    "4     True --> This row is a duplicate of row 0.\n",
    "5    False\n",
    "6     True --> This row is a duplicate of row 2.\n",
    "7    False\n",
    "8    False\n",
    "9    False\n",
    "dtype: bool\n",
    "```\n"
   ]
  },
  {
   "cell_type": "code",
   "execution_count": 13,
   "metadata": {},
   "outputs": [
    {
     "data": {
      "text/html": [
       "<div>\n",
       "<style scoped>\n",
       "    .dataframe tbody tr th:only-of-type {\n",
       "        vertical-align: middle;\n",
       "    }\n",
       "\n",
       "    .dataframe tbody tr th {\n",
       "        vertical-align: top;\n",
       "    }\n",
       "\n",
       "    .dataframe thead th {\n",
       "        text-align: right;\n",
       "    }\n",
       "</style>\n",
       "<table border=\"1\" class=\"dataframe\">\n",
       "  <thead>\n",
       "    <tr style=\"text-align: right;\">\n",
       "      <th></th>\n",
       "      <th>location</th>\n",
       "      <th>country</th>\n",
       "      <th>gender</th>\n",
       "      <th>age</th>\n",
       "      <th>vis_wuhan</th>\n",
       "      <th>from_wuhan</th>\n",
       "      <th>symptom1</th>\n",
       "      <th>symptom2</th>\n",
       "      <th>symptom3</th>\n",
       "      <th>symptom4</th>\n",
       "      <th>symptom5</th>\n",
       "      <th>symptom6</th>\n",
       "      <th>diff_sym_hos</th>\n",
       "      <th>result</th>\n",
       "    </tr>\n",
       "  </thead>\n",
       "  <tbody>\n",
       "    <tr>\n",
       "      <th>count</th>\n",
       "      <td>863.000000</td>\n",
       "      <td>863.000000</td>\n",
       "      <td>863.000000</td>\n",
       "      <td>863.000000</td>\n",
       "      <td>863.000000</td>\n",
       "      <td>863.000000</td>\n",
       "      <td>863.00000</td>\n",
       "      <td>863.000000</td>\n",
       "      <td>863.000000</td>\n",
       "      <td>863.000000</td>\n",
       "      <td>863.000000</td>\n",
       "      <td>863.000000</td>\n",
       "      <td>863.000000</td>\n",
       "      <td>863.000000</td>\n",
       "    </tr>\n",
       "    <tr>\n",
       "      <th>mean</th>\n",
       "      <td>76.645423</td>\n",
       "      <td>16.995365</td>\n",
       "      <td>0.849363</td>\n",
       "      <td>49.400000</td>\n",
       "      <td>0.181924</td>\n",
       "      <td>0.107764</td>\n",
       "      <td>12.13905</td>\n",
       "      <td>28.002317</td>\n",
       "      <td>18.298957</td>\n",
       "      <td>11.840093</td>\n",
       "      <td>2.993048</td>\n",
       "      <td>0.998841</td>\n",
       "      <td>0.995365</td>\n",
       "      <td>0.125145</td>\n",
       "    </tr>\n",
       "    <tr>\n",
       "      <th>std</th>\n",
       "      <td>39.200264</td>\n",
       "      <td>7.809951</td>\n",
       "      <td>0.726062</td>\n",
       "      <td>15.079203</td>\n",
       "      <td>0.386005</td>\n",
       "      <td>0.310261</td>\n",
       "      <td>3.99787</td>\n",
       "      <td>7.473231</td>\n",
       "      <td>2.864064</td>\n",
       "      <td>1.183771</td>\n",
       "      <td>0.127251</td>\n",
       "      <td>0.034040</td>\n",
       "      <td>2.358767</td>\n",
       "      <td>0.331075</td>\n",
       "    </tr>\n",
       "    <tr>\n",
       "      <th>min</th>\n",
       "      <td>0.000000</td>\n",
       "      <td>0.000000</td>\n",
       "      <td>0.000000</td>\n",
       "      <td>2.000000</td>\n",
       "      <td>0.000000</td>\n",
       "      <td>0.000000</td>\n",
       "      <td>0.00000</td>\n",
       "      <td>0.000000</td>\n",
       "      <td>0.000000</td>\n",
       "      <td>0.000000</td>\n",
       "      <td>0.000000</td>\n",
       "      <td>0.000000</td>\n",
       "      <td>-5.000000</td>\n",
       "      <td>0.000000</td>\n",
       "    </tr>\n",
       "    <tr>\n",
       "      <th>25%</th>\n",
       "      <td>45.000000</td>\n",
       "      <td>11.000000</td>\n",
       "      <td>0.000000</td>\n",
       "      <td>40.000000</td>\n",
       "      <td>0.000000</td>\n",
       "      <td>0.000000</td>\n",
       "      <td>14.00000</td>\n",
       "      <td>31.000000</td>\n",
       "      <td>19.000000</td>\n",
       "      <td>12.000000</td>\n",
       "      <td>3.000000</td>\n",
       "      <td>1.000000</td>\n",
       "      <td>0.000000</td>\n",
       "      <td>0.000000</td>\n",
       "    </tr>\n",
       "    <tr>\n",
       "      <th>50%</th>\n",
       "      <td>87.000000</td>\n",
       "      <td>18.000000</td>\n",
       "      <td>1.000000</td>\n",
       "      <td>49.400000</td>\n",
       "      <td>0.000000</td>\n",
       "      <td>0.000000</td>\n",
       "      <td>14.00000</td>\n",
       "      <td>31.000000</td>\n",
       "      <td>19.000000</td>\n",
       "      <td>12.000000</td>\n",
       "      <td>3.000000</td>\n",
       "      <td>1.000000</td>\n",
       "      <td>0.000000</td>\n",
       "      <td>0.000000</td>\n",
       "    </tr>\n",
       "    <tr>\n",
       "      <th>75%</th>\n",
       "      <td>110.000000</td>\n",
       "      <td>24.000000</td>\n",
       "      <td>1.000000</td>\n",
       "      <td>57.000000</td>\n",
       "      <td>0.000000</td>\n",
       "      <td>0.000000</td>\n",
       "      <td>14.00000</td>\n",
       "      <td>31.000000</td>\n",
       "      <td>19.000000</td>\n",
       "      <td>12.000000</td>\n",
       "      <td>3.000000</td>\n",
       "      <td>1.000000</td>\n",
       "      <td>1.000000</td>\n",
       "      <td>0.000000</td>\n",
       "    </tr>\n",
       "    <tr>\n",
       "      <th>max</th>\n",
       "      <td>138.000000</td>\n",
       "      <td>33.000000</td>\n",
       "      <td>2.000000</td>\n",
       "      <td>96.000000</td>\n",
       "      <td>1.000000</td>\n",
       "      <td>1.000000</td>\n",
       "      <td>24.00000</td>\n",
       "      <td>31.000000</td>\n",
       "      <td>19.000000</td>\n",
       "      <td>12.000000</td>\n",
       "      <td>3.000000</td>\n",
       "      <td>1.000000</td>\n",
       "      <td>15.000000</td>\n",
       "      <td>1.000000</td>\n",
       "    </tr>\n",
       "  </tbody>\n",
       "</table>\n",
       "</div>"
      ],
      "text/plain": [
       "         location     country      gender         age   vis_wuhan  from_wuhan  \\\n",
       "count  863.000000  863.000000  863.000000  863.000000  863.000000  863.000000   \n",
       "mean    76.645423   16.995365    0.849363   49.400000    0.181924    0.107764   \n",
       "std     39.200264    7.809951    0.726062   15.079203    0.386005    0.310261   \n",
       "min      0.000000    0.000000    0.000000    2.000000    0.000000    0.000000   \n",
       "25%     45.000000   11.000000    0.000000   40.000000    0.000000    0.000000   \n",
       "50%     87.000000   18.000000    1.000000   49.400000    0.000000    0.000000   \n",
       "75%    110.000000   24.000000    1.000000   57.000000    0.000000    0.000000   \n",
       "max    138.000000   33.000000    2.000000   96.000000    1.000000    1.000000   \n",
       "\n",
       "        symptom1    symptom2    symptom3    symptom4    symptom5    symptom6  \\\n",
       "count  863.00000  863.000000  863.000000  863.000000  863.000000  863.000000   \n",
       "mean    12.13905   28.002317   18.298957   11.840093    2.993048    0.998841   \n",
       "std      3.99787    7.473231    2.864064    1.183771    0.127251    0.034040   \n",
       "min      0.00000    0.000000    0.000000    0.000000    0.000000    0.000000   \n",
       "25%     14.00000   31.000000   19.000000   12.000000    3.000000    1.000000   \n",
       "50%     14.00000   31.000000   19.000000   12.000000    3.000000    1.000000   \n",
       "75%     14.00000   31.000000   19.000000   12.000000    3.000000    1.000000   \n",
       "max     24.00000   31.000000   19.000000   12.000000    3.000000    1.000000   \n",
       "\n",
       "       diff_sym_hos      result  \n",
       "count    863.000000  863.000000  \n",
       "mean       0.995365    0.125145  \n",
       "std        2.358767    0.331075  \n",
       "min       -5.000000    0.000000  \n",
       "25%        0.000000    0.000000  \n",
       "50%        0.000000    0.000000  \n",
       "75%        1.000000    0.000000  \n",
       "max       15.000000    1.000000  "
      ]
     },
     "execution_count": 13,
     "metadata": {},
     "output_type": "execute_result"
    }
   ],
   "source": [
    "dataset.describe()\n"
   ]
  },
  {
   "cell_type": "markdown",
   "metadata": {},
   "source": [
    "## Let's work on the outliers"
   ]
  },
  {
   "cell_type": "markdown",
   "metadata": {},
   "source": [
    "## Exploratory Data Analysis"
   ]
  },
  {
   "cell_type": "markdown",
   "metadata": {},
   "source": [
    "### Visualizing Data Distributions"
   ]
  },
  {
   "cell_type": "code",
   "execution_count": 14,
   "metadata": {},
   "outputs": [],
   "source": [
    "# dataset.hist(figsize=(16, 16))\n",
    "# plt.show()\n"
   ]
  },
  {
   "cell_type": "markdown",
   "metadata": {},
   "source": [
    "### Visualizing feature correlations"
   ]
  },
  {
   "cell_type": "markdown",
   "metadata": {},
   "source": [
    "This is the covariance matrix\n",
    "\n",
    "```\n",
    "      0           1           2           ...  n\n",
    "    -------------------------------------------------------\n",
    "0   | Var(0)      Covar(0,1)  Covar(0,2)  ...  Covar(0,n) |\n",
    "    -------------------------------------------------------\n",
    "1   | Covar(1,0)  Var(1)      Covar(1,2)  ...  Covar(1,n) |\n",
    "    -------------------------------------------------------\n",
    "2   | Covar(2,0)  Covar(2,1)  Var(2)      ...  Covar(2,n) |\n",
    "    -------------------------------------------------------\n",
    "... | ...         ...         ...         ...  ...        |\n",
    "    -------------------------------------------------------\n",
    "n   | Covar(n,0)  Covar(n,1)  Covar(n,2)  ...  Var(n)     |\n",
    "    -------------------------------------------------------\n",
    "```\n",
    "\n",
    "So for example:\n",
    "\n",
    "${covariance}(X, Y) = \\frac{\\sum_{i=1}^{n}(X_i - \\bar{X})(Y_i - \\bar{Y})}{n-1}$\n",
    "\n",
    "The mean of variable $X$ is calculated as $\\bar{X} = \\frac{\\sum_{i=1}^{n} X_i}{n}$, and the mean of variable $Y$ is calculated as $\\bar{Y} = \\frac{\\sum_{i=1}^{n} Y_i}{n}$.\n",
    "\n",
    "Let's calculate the `covariance(location,location)` OR `covariance(0,0)` OR `variance(location)` OR `variance(0)` and the `covariance(location,country)` OR `covariance(0,1)` to make sure that the covariance matrix is correct.\n",
    "\n",
    "```python\n",
    "\n",
    "# Calculating the covariance(location,location) OR covariance(0,0) OR variance(location) OR variance(0)\n",
    "\n",
    "n = COVID_19_outcome_dataset.shape[0]\n",
    "\n",
    "x1 = COVID_19_outcome_dataset.iloc[:,0].values\n",
    "y1 = x1\n",
    "\n",
    "x1bar = np.mean(x1)\n",
    "y1bar = x1bar\n",
    "\n",
    "v_x1 = np.sum((x1 - x1bar) ** 2)\n",
    "v_y1 = np.sum((y1 - y1bar) ** 2)\n",
    "\n",
    "cov1_numerator = np.sum((x1 - x1bar) * (y1 - y1bar))\n",
    "cov1 = cov1_numerator / ( n - 1)\n",
    "\n",
    "correlation1_coefficient = cov1_numerator / (np.sqrt(v_x1) * np.sqrt(v_y1))\n",
    "\n",
    "correlation1_coefficient\n",
    "\n",
    "```\n",
    "\n",
    "Will return:\n",
    "\n",
    "```\n",
    "1.0000000000000002\n",
    "```\n",
    "\n",
    "```python\n",
    "\n",
    "# Calculating the covariance(location,country) OR covariance(0,1)\n",
    "\n",
    "n = COVID_19_outcome_dataset.shape[0]\n",
    "\n",
    "x2 = COVID_19_outcome_dataset.iloc[:,0].values\n",
    "y2 = COVID_19_outcome_dataset.iloc[:,1].values\n",
    "\n",
    "x2bar = np.mean(x2)\n",
    "y2bar = np.mean(y2)\n",
    "\n",
    "v_x2 = np.sum((x2 - x2bar) ** 2)\n",
    "v_y2 = np.sum((y2 - y2bar) ** 2)\n",
    "\n",
    "cov2_numerator = np.sum((x2 - x2bar) * (y2 - y2bar))\n",
    "cov2 = cov2_numerator / (n - 1)\n",
    "\n",
    "correlation2_coefficient = cov2_numerator / (np.sqrt(v_x2) * np.sqrt(v_y2))\n",
    "\n",
    "correlation2_coefficient\n",
    "\n",
    "```\n",
    "\n",
    "Will return:\n",
    "\n",
    "```\n",
    "0.3093467486067619\n",
    "```\n",
    "\n",
    "Let's check the correlation matrix.\n",
    "\n",
    "```python\n",
    "\n",
    "corr = COVID_19_outcome_dataset.drop(\"result\",axis= 1, inplace= False).corr()\n",
    "\n",
    "corr[\"location\"][\"location\"]\n",
    "\n",
    "```\n",
    "\n",
    "Will return:\n",
    "\n",
    "```\n",
    "1.0\n",
    "```\n",
    "\n",
    "```python\n",
    "\n",
    "corr = COVID_19_outcome_dataset.drop(\"result\",axis= 1, inplace= False).corr()\n",
    "\n",
    "corr[\"location\"][\"country\"]\n",
    "\n",
    "```\n",
    "\n",
    "Will return:\n",
    "\n",
    "```\n",
    "0.30934674860676165\n",
    "```\n",
    "\n"
   ]
  },
  {
   "cell_type": "markdown",
   "metadata": {},
   "source": [
    "We drop the target column to view the correlations between the features BUT we set `inplace` to False so that the original dataset is not affected."
   ]
  },
  {
   "cell_type": "code",
   "execution_count": 15,
   "metadata": {},
   "outputs": [],
   "source": [
    "corr = dataset.corr()\n"
   ]
  },
  {
   "cell_type": "markdown",
   "metadata": {},
   "source": [
    "#### Let's draw the heatmap.\n"
   ]
  },
  {
   "cell_type": "markdown",
   "metadata": {},
   "source": [
    "Here we only show the high(>0.5) and low(<-0.5) corr graph."
   ]
  },
  {
   "cell_type": "code",
   "execution_count": 16,
   "metadata": {},
   "outputs": [
    {
     "data": {
      "image/png": "[encoded data removed]",
      "text/plain": [
       "<Figure size 800x600 with 2 Axes>"
      ]
     },
     "metadata": {},
     "output_type": "display_data"
    }
   ],
   "source": [
    "plt.style.use(\"_mpl-gallery-nogrid\")\n",
    "\n",
    "fig, ax = plt.subplots(figsize=(8, 6))\n",
    "labels = dataset.columns\n",
    "features_count = dataset.shape[1] + 1 # +1 for the result (target) column.\n",
    "filtered_corr = corr[(corr > 0.4) | (corr < -0.4)]\n",
    "hm = ax.imshow(\n",
    "    filtered_corr, cmap=\"coolwarm_r\", interpolation=\"nearest\", aspect=\"equal\"\n",
    ")\n",
    "ax.set_xticks(\n",
    "    np.arange(0, features_count - 1), labels=labels, rotation=\"vertical\", ha=\"center\"\n",
    ")  # X-axis scale and labels\n",
    "ax.set_yticks(\n",
    "    np.arange(0, features_count - 1), labels=labels\n",
    ")  # Y-axis scale and labels\n",
    "ax.grid(visible=True, linestyle=\"--\", alpha=0.7)\n",
    "ax.set(title=\"Correlation among features\", xlabel=\"Features\", ylabel=\"Features\")\n",
    "hm.set_clim((-1, 1))\n",
    "cbar = fig.colorbar(mappable=hm)  # This is the color bar at the right\n",
    "plt.show()\n"
   ]
  },
  {
   "cell_type": "markdown",
   "metadata": {},
   "source": [
    "From the above heatmap, we observe that `symptom1` and `symptom2` are slightly correlated. Same with `symptom2` and `symptom3`."
   ]
  },
  {
   "cell_type": "markdown",
   "metadata": {},
   "source": [
    "# Model Building"
   ]
  },
  {
   "cell_type": "markdown",
   "metadata": {},
   "source": [
    "## Splitting the dataset into the Training set and Test set"
   ]
  },
  {
   "cell_type": "markdown",
   "metadata": {},
   "source": [
    "The training set will be used for validating the model (using Cross Validation) and the test set will be used for testing the model."
   ]
  },
  {
   "cell_type": "code",
   "execution_count": 17,
   "metadata": {},
   "outputs": [],
   "source": [
    "X = dataset.drop(\"result\", axis=1, inplace=False).values\n",
    "y = dataset[\"result\"].values\n"
   ]
  },
  {
   "cell_type": "code",
   "execution_count": 18,
   "metadata": {},
   "outputs": [
    {
     "name": "stdout",
     "output_type": "stream",
     "text": [
      "X_train Shape= (690, 13)\n",
      "X_test Shape= (173, 13)\n",
      "y_train Shape= (690,)\n",
      "y_test Shape= (173,)\n"
     ]
    }
   ],
   "source": [
    "X_train, X_test, y_train, y_test = train_test_split(\n",
    "    X, y, test_size=0.2, shuffle=True, random_state=random_state\n",
    ")\n",
    "for n, d in [\n",
    "    (\"X_train\", X_train),\n",
    "    (\"X_test\", X_test),\n",
    "    (\"y_train\", y_train),\n",
    "    (\"y_test\", y_test),\n",
    "]:\n",
    "    print(f\"{n} Shape= {d.shape}\")\n"
   ]
  },
  {
   "cell_type": "markdown",
   "metadata": {},
   "source": [
    "## Scaling Data"
   ]
  },
  {
   "cell_type": "markdown",
   "metadata": {},
   "source": [
    "This StandardScaler will scale the data to be inside the range of -3 and 3 inclusive."
   ]
  },
  {
   "cell_type": "code",
   "execution_count": 19,
   "metadata": {},
   "outputs": [
    {
     "data": {
      "text/plain": [
       "array([[-0.82848612, -0.50783513,  0.2169658 , ...,  0.05286641,\n",
       "         0.        ,  2.69412875],\n",
       "       [-1.66769734, -0.63507052,  0.2169658 , ...,  0.05286641,\n",
       "         0.        , -0.43391016],\n",
       "       [ 0.5447686 , -1.14401205, -1.15648744, ...,  0.05286641,\n",
       "         0.        , -0.43391016],\n",
       "       ...,\n",
       "       [ 1.00252017,  0.12834178,  0.2169658 , ...,  0.05286641,\n",
       "         0.        , -0.43391016],\n",
       "       [-1.43882155,  1.01898945,  0.2169658 , ...,  0.05286641,\n",
       "         0.        , -0.43391016],\n",
       "       [-1.64226669, -1.14401205,  0.2169658 , ...,  0.05286641,\n",
       "         0.        ,  2.24726605]])"
      ]
     },
     "execution_count": 19,
     "metadata": {},
     "output_type": "execute_result"
    }
   ],
   "source": [
    "sc = StandardScaler()\n",
    "sc.fit_transform(X_train)\n",
    "sc.transform(X_test)\n"
   ]
  },
  {
   "cell_type": "markdown",
   "metadata": {},
   "source": [
    "## Model Training and Prediction\n",
    " - Decision Trees (DT)\n",
    " - Support Vector Machines (SVM)\n",
    "### We test these models and evaluate the predictive performance of each model.  "
   ]
  },
  {
   "cell_type": "code",
   "execution_count": 20,
   "metadata": {},
   "outputs": [],
   "source": [
    "models = {\n",
    "    \"DT\": DecisionTreeClassifier(random_state=random_state),\n",
    "    \"SVM\": SVC(random_state=random_state)\n",
    "}\n"
   ]
  },
  {
   "cell_type": "code",
   "execution_count": 21,
   "metadata": {},
   "outputs": [],
   "source": [
    "def train_and_evaluate(models, X_train, y_train, X_test, y_test):\n",
    "    prediction = {}\n",
    "    for model_name, estimator in models.items():\n",
    "        fitted_model = estimator.fit(X_train, y_train)\n",
    "        prediction[model_name] = fitted_model.predict(X_test)\n",
    "        print(f\"{model_name}: { round(estimator.score(X_test, y_test),4)*100} %\")\n",
    "        print(classification_report(prediction[model_name], y_test))\n"
   ]
  },
  {
   "cell_type": "markdown",
   "metadata": {},
   "source": [
    "``SVM needs requires the target to be either -1 or 1 so we convert it here.``"
   ]
  },
  {
   "cell_type": "code",
   "execution_count": 22,
   "metadata": {},
   "outputs": [],
   "source": [
    "y_train = [-1 if y == 0 else y for y in y_train]\n",
    "y_test = [-1 if y == 0 else y for y in y_test]"
   ]
  },
  {
   "cell_type": "code",
   "execution_count": 23,
   "metadata": {},
   "outputs": [
    {
     "name": "stdout",
     "output_type": "stream",
     "text": [
      "DT: 96.53 %\n",
      "              precision    recall  f1-score   support\n",
      "\n",
      "          -1       0.97      0.99      0.98       146\n",
      "           1       0.92      0.85      0.88        27\n",
      "\n",
      "    accuracy                           0.97       173\n",
      "   macro avg       0.95      0.92      0.93       173\n",
      "weighted avg       0.96      0.97      0.96       173\n",
      "\n",
      "SVM: 92.49000000000001 %\n",
      "              precision    recall  f1-score   support\n",
      "\n",
      "          -1       0.99      0.93      0.96       157\n",
      "           1       0.56      0.88      0.68        16\n",
      "\n",
      "    accuracy                           0.92       173\n",
      "   macro avg       0.77      0.90      0.82       173\n",
      "weighted avg       0.95      0.92      0.93       173\n",
      "\n"
     ]
    }
   ],
   "source": [
    "train_and_evaluate(models, X_train, y_train, X_test, y_test)"
   ]
  },
  {
   "cell_type": "markdown",
   "metadata": {},
   "source": [
    "## Let's check the Confusion Matrix of these outputs."
   ]
  },
  {
   "cell_type": "code",
   "execution_count": 24,
   "metadata": {},
   "outputs": [],
   "source": [
    "def draw_confusion_matrices(class_names: list[str], models: dict, X_test: np.ndarray, y_test: np.ndarray, normalize: str = None):\n",
    "    plt.style.use(\"_mpl-gallery-nogrid\")\n",
    "\n",
    "    fig, axes = plt.subplots(math.ceil(len(models)/2), (len(models)//2)+1, figsize=(((len(models)//2)+1) * 6, math.ceil(len(models)/2) * 5))\n",
    "    plt.subplots_adjust(hspace=0.1)\n",
    "\n",
    "    np.set_printoptions(precision=2)\n",
    "\n",
    "    for ((model_name, estimator), ax) in zip(models.items(), axes.flatten()):\n",
    "        disp = ConfusionMatrixDisplay.from_estimator(\n",
    "            estimator,\n",
    "            X_test,\n",
    "            y_test,\n",
    "            display_labels=class_names,\n",
    "            cmap=plt.cm.Blues,\n",
    "            normalize=normalize,\n",
    "            ax=ax,\n",
    "            im_kw={\"vmin\": 0, \"vmax\": len(y_test)}, # Or len(X_test).\n",
    "            text_kw={\"color\": \"black\", \"size\": 20, \"ha\": \"center\", \"va\": \"center\"},\n",
    "        )\n",
    "        disp.ax_.set_title(model_name)\n",
    "\n",
    "    plt.show()"
   ]
  },
  {
   "cell_type": "code",
   "execution_count": 25,
   "metadata": {},
   "outputs": [],
   "source": [
    "class_names = [\"Death\", \"Recovered\"]\n"
   ]
  },
  {
   "cell_type": "code",
   "execution_count": 26,
   "metadata": {},
   "outputs": [
    {
     "data": {
      "image/png": "[encoded data removed]",
      "text/plain": [
       "<Figure size 1200x500 with 4 Axes>"
      ]
     },
     "metadata": {},
     "output_type": "display_data"
    }
   ],
   "source": [
    "draw_confusion_matrices(class_names, models, X_test, y_test)"
   ]
  },
  {
   "cell_type": "markdown",
   "metadata": {},
   "source": [
    "From the Classification Report and Confusion Matrix, we can observe that the performance of the two models slightly the same.\n",
    "\n",
    "These models have an accuracy rate of 90% or above in their predictions.\n",
    "\n",
    "We are interested more in the Recall score of the positive class (COVID-19 positive) as we want to minimize the number of False Negatives (FN) as much as possible. We want to minimize the number of False Negatives (FN) because we don't want to tell a patient that he/she will recover when he/she is actually going to die. This is a very dangerous situation.\n",
    "\n",
    "From the above results, we can observe that the Decision Trees has 4 False Negatives (FN) while the Support Vector Machines has 2 False Negatives (FN). So the Support Vector Machines model is better than the Decision Trees model."
   ]
  },
  {
   "cell_type": "markdown",
   "metadata": {},
   "source": [
    "## Cross Validation"
   ]
  },
  {
   "cell_type": "code",
   "execution_count": 27,
   "metadata": {},
   "outputs": [],
   "source": [
    "def cross_validate_model(estimator: ClassifierMixin, scoring: list[str], X_train: np.ndarray, y_train: np.ndarray, cv: int) -> np.ndarray:\n",
    "    scores = cross_validate(\n",
    "        estimator,\n",
    "        X_train,\n",
    "        y_train,\n",
    "        cv=cv,\n",
    "        scoring=scoring,\n",
    "        n_jobs=n_jobs\n",
    "    )\n",
    "    print(f\"recall : {round(np.mean(scores['test_recall']), 4)}, f1 : {round(np.mean(scores['test_f1']), 4)} \")\n",
    "    return scores\n",
    "        "
   ]
  },
  {
   "cell_type": "markdown",
   "metadata": {},
   "source": [
    "### Getting best parameters for Decision Tree model"
   ]
  },
  {
   "cell_type": "code",
   "execution_count": 28,
   "metadata": {},
   "outputs": [],
   "source": [
    "cv=10 # 5-fold cross validation for each model\n"
   ]
  },
  {
   "cell_type": "code",
   "execution_count": 29,
   "metadata": {},
   "outputs": [],
   "source": [
    "scoring=[\"recall\", \"f1\"]\n"
   ]
  },
  {
   "cell_type": "code",
   "execution_count": 42,
   "metadata": {},
   "outputs": [
    {
     "name": "stdout",
     "output_type": "stream",
     "text": [
      "recall : 0.8417, f1 : 0.8424 \n",
      "recall : 0.8417, f1 : 0.8424 \n",
      "recall : 0.8417, f1 : 0.8424 \n",
      "recall : 0.6833, f1 : 0.6844 \n",
      "recall : 0.8417, f1 : 0.8424 \n",
      "recall : 0.8181, f1 : 0.85 \n",
      "recall : 0.8417, f1 : 0.8424 \n",
      "recall : 0.8056, f1 : 0.8353 \n",
      "recall : 0.8306, f1 : 0.8445 \n",
      "recall : 0.7944, f1 : 0.7522 \n",
      "recall : 0.8417, f1 : 0.8424 \n",
      "recall : 0.8181, f1 : 0.85 \n",
      "recall : 0.8417, f1 : 0.8424 \n",
      "recall : 0.8181, f1 : 0.8389 \n",
      "recall : 0.7708, f1 : 0.7822 \n",
      "recall : 0.7833, f1 : 0.7792 \n",
      "recall : 0.8417, f1 : 0.8424 \n",
      "recall : 0.8181, f1 : 0.85 \n",
      "recall : 0.8417, f1 : 0.8424 \n",
      "recall : 0.7931, f1 : 0.8286 \n",
      "recall : 0.7458, f1 : 0.7811 \n",
      "recall : 0.7458, f1 : 0.7584 \n",
      "recall : 0.8417, f1 : 0.8424 \n",
      "recall : 0.8181, f1 : 0.85 \n",
      "recall : 0.8417, f1 : 0.8424 \n",
      "recall : 0.8181, f1 : 0.8291 \n",
      "recall : 0.8208, f1 : 0.8011 \n",
      "recall : 0.7472, f1 : 0.7526 \n",
      "recall : 0.8417, f1 : 0.8424 \n",
      "recall : 0.8181, f1 : 0.85 \n",
      "recall : 0.8417, f1 : 0.8424 \n",
      "recall : 0.8181, f1 : 0.8239 \n",
      "recall : 0.775, f1 : 0.7839 \n",
      "recall : 0.7708, f1 : 0.7504 \n",
      "recall : 0.8417, f1 : 0.8424 \n",
      "recall : 0.8181, f1 : 0.85 \n",
      "recall : 0.8417, f1 : 0.8424 \n",
      "recall : 0.8181, f1 : 0.8297 \n",
      "recall : 0.8306, f1 : 0.7998 \n",
      "recall : 0.8042, f1 : 0.7792 \n",
      "recall : 0.8417, f1 : 0.8424 \n",
      "recall : 0.8181, f1 : 0.85 \n",
      "recall : 0.8417, f1 : 0.8424 \n",
      "recall : 0.8306, f1 : 0.8245 \n",
      "recall : 0.8083, f1 : 0.8172 \n",
      "recall : 0.8069, f1 : 0.7925 \n",
      "recall : 0.8417, f1 : 0.8424 \n",
      "recall : 0.8181, f1 : 0.85 \n"
     ]
    }
   ],
   "source": [
    "max_depth_values: np.ndarray = np.arange(10, 100, 1) # The maximum depth of the tree.\n",
    "min_samples_split_values: np.ndarray = np.arange(2, 10, 1) # The minimum number of samples a node must have to split.\n",
    "min_samples_leaf_values: np.ndarray = np.arange(1, 10, 1) # The minimum number of samples a leaf node must have.\n",
    "max_leaf_nodes_values: np.ndarray = np.arange(2, 1000, 1) # Maximum number of leaf nodes.\n",
    "max_features_values: np.ndarray = np.arange(1, 13, 1) # Maximum number features that are evaluated for splitting. We have 13 features.\n",
    "best_max_depth = max_depth_values[0]\n",
    "best_max_depth_recall = 0.0\n",
    "best_min_samples_split = min_samples_split_values[0]\n",
    "best_min_samples_split_recall = 0.0\n",
    "best_min_samples_leaf = min_samples_leaf_values[0]\n",
    "best_min_samples_leaf_recall = 0.0\n",
    "best_max_leaf_nodes = max_leaf_nodes_values[0]\n",
    "best_max_leaf_nodes_recall = 0.0\n",
    "best_max_features = 13\n",
    "best_max_features_recall = 0.0\n",
    "best_criterion = 'gini' # Both Entropy and Gini produce similar tree most of the time, but Gini is slightly faster. Gini is for numerical \n",
    "# features while Entropy is for categorical ones. Gini tends to isolate the largest class from other classes while Entropy tends to find \n",
    "# group that made up ~50% of the data → more balanced tree.\n",
    "\n",
    "for (max_depth, min_samples_split, min_samples_leaf, max_leaf_nodes, max_features) in zip(max_depth_values, min_samples_split_values, min_samples_leaf_values, max_leaf_nodes_values, max_features_values):\n",
    "    estimator0 = DecisionTreeClassifier(max_depth=max_depth, random_state=random_state)\n",
    "    scores = cross_validate_model(estimator0, scoring, X_train, y_train, cv)\n",
    "    if np.mean(scores['test_recall']) > best_max_depth_recall:\n",
    "        best_max_depth_recall = np.mean(scores['test_recall'])\n",
    "        best_max_depth = max_depth\n",
    "    estimator1 = DecisionTreeClassifier(min_samples_split=min_samples_split, random_state=random_state)\n",
    "    scores = cross_validate_model(estimator1, scoring, X_train, y_train, cv)\n",
    "    if np.mean(scores['test_recall']) > best_min_samples_split_recall:\n",
    "        best_min_samples_split_recall = np.mean(scores['test_recall'])\n",
    "        best_min_samples_split = min_samples_split\n",
    "    estimator2 = DecisionTreeClassifier(min_samples_leaf=min_samples_leaf, random_state=random_state)\n",
    "    scores = cross_validate_model(estimator2, scoring, X_train, y_train, cv)\n",
    "    if np.mean(scores['test_recall']) > best_min_samples_leaf_recall:\n",
    "        best_min_samples_leaf_recall = np.mean(scores['test_recall'])\n",
    "        best_min_samples_leaf = min_samples_leaf\n",
    "    estimator3 = DecisionTreeClassifier(max_leaf_nodes=max_leaf_nodes, random_state=random_state)\n",
    "    scores = cross_validate_model(estimator3, scoring, X_train, y_train, cv)\n",
    "    if np.mean(scores['test_recall']) > best_max_leaf_nodes_recall:\n",
    "        best_max_leaf_nodes_recall = np.mean(scores['test_recall'])\n",
    "        best_max_leaf_nodes = max_leaf_nodes\n",
    "    # estimator4 = DecisionTreeClassifier(max_features=max_features, random_state=random_state)\n",
    "    # scores = cross_validate_model(estimator4, scoring, X_train, y_train, cv)\n",
    "    # if np.mean(scores['test_recall']) > best_max_features_recall:\n",
    "    #     best_max_features_recall = np.mean(scores['test_recall'])\n",
    "    #     best_max_features = max_features\n",
    "    estimator5 = DecisionTreeClassifier(criterion='gini', random_state=random_state)\n",
    "    scores_gini = cross_validate_model(estimator5, scoring, X_train, y_train, cv)\n",
    "    estimator6 = DecisionTreeClassifier(criterion='entropy', random_state=random_state)\n",
    "    scores_entropy = cross_validate_model(estimator6, scoring, X_train, y_train, cv)\n",
    "    if np.mean(scores_gini['test_recall']) > np.mean(scores_entropy['test_recall']):\n",
    "        best_criterion = 'gini'\n",
    "    else:\n",
    "        best_criterion = 'entropy'\n"
   ]
  },
  {
   "cell_type": "code",
   "execution_count": 43,
   "metadata": {},
   "outputs": [
    {
     "name": "stdout",
     "output_type": "stream",
     "text": [
      "Best max_depth : 10, Best min_samples_split : 2, Best min_samples_leaf : 1, Best max_leaf_nodes : 9, Best max_features : 13, Best criterion : gini\n",
      "Best max_depth recall : 0.8416666666666668, Best min_samples_split recall : 0.8416666666666668, Best min_samples_leaf recall : 0.8416666666666668, Best max_leaf_nodes recall : 0.8069444444444445, Best max_features recall : 0.0\n"
     ]
    }
   ],
   "source": [
    "print(f\"Best max_depth : {best_max_depth}, Best min_samples_split : {best_min_samples_split}, Best min_samples_leaf : {best_min_samples_leaf}, Best max_leaf_nodes : {best_max_leaf_nodes}, Best max_features : {best_max_features}, Best criterion : {best_criterion}\")\n",
    "print(f\"Best max_depth recall : {best_max_depth_recall}, Best min_samples_split recall : {best_min_samples_split_recall}, Best min_samples_leaf recall : {best_min_samples_leaf_recall}, Best max_leaf_nodes recall : {best_max_leaf_nodes_recall}, Best max_features recall : {best_max_features_recall}\")"
   ]
  },
  {
   "cell_type": "markdown",
   "metadata": {},
   "source": [
    "### Getting best parameters for Support Vector Machine model"
   ]
  },
  {
   "cell_type": "code",
   "execution_count": 44,
   "metadata": {},
   "outputs": [
    {
     "name": "stdout",
     "output_type": "stream",
     "text": [
      "recall : 0.4306, f1 : 0.5656 \n",
      "recall : 0.5278, f1 : 0.6364 \n",
      "recall : 0.5278, f1 : 0.6341 \n",
      "recall : 0.575, f1 : 0.6781 \n",
      "recall : 0.575, f1 : 0.6729 \n",
      "recall : 0.5861, f1 : 0.6831 \n",
      "recall : 0.5986, f1 : 0.6933 \n",
      "recall : 0.5861, f1 : 0.6831 \n",
      "recall : 0.5986, f1 : 0.6922 \n",
      "recall : 0.5986, f1 : 0.6922 \n",
      "recall : 0.5986, f1 : 0.6922 \n",
      "recall : 0.6236, f1 : 0.7152 \n",
      "recall : 0.6236, f1 : 0.7152 \n",
      "recall : 0.6361, f1 : 0.7195 \n",
      "recall : 0.6472, f1 : 0.7233 \n",
      "recall : 0.6722, f1 : 0.7395 \n",
      "recall : 0.6722, f1 : 0.7395 \n",
      "recall : 0.6722, f1 : 0.7395 \n",
      "recall : 0.6722, f1 : 0.7395 \n",
      "recall : 0.6722, f1 : 0.7345 \n",
      "recall : 0.6722, f1 : 0.7345 \n",
      "recall : 0.6847, f1 : 0.7431 \n",
      "recall : 0.6847, f1 : 0.7431 \n",
      "recall : 0.6847, f1 : 0.7431 \n",
      "recall : 0.6972, f1 : 0.7564 \n",
      "recall : 0.6972, f1 : 0.7564 \n",
      "recall : 0.6972, f1 : 0.7564 \n",
      "recall : 0.6972, f1 : 0.7564 \n",
      "recall : 0.6972, f1 : 0.7564 \n",
      "recall : 0.6972, f1 : 0.7564 \n",
      "recall : 0.6972, f1 : 0.7564 \n",
      "recall : 0.6972, f1 : 0.7564 \n",
      "recall : 0.6972, f1 : 0.7523 \n",
      "recall : 0.6972, f1 : 0.7523 \n",
      "recall : 0.6972, f1 : 0.7523 \n",
      "recall : 0.6972, f1 : 0.7523 \n",
      "recall : 0.6972, f1 : 0.7523 \n",
      "recall : 0.6972, f1 : 0.7523 \n",
      "recall : 0.7097, f1 : 0.7639 \n",
      "recall : 0.7097, f1 : 0.7639 \n",
      "recall : 0.7097, f1 : 0.7639 \n",
      "recall : 0.7097, f1 : 0.7639 \n",
      "recall : 0.7097, f1 : 0.7639 \n",
      "recall : 0.7097, f1 : 0.7639 \n",
      "recall : 0.7097, f1 : 0.7639 \n",
      "recall : 0.7097, f1 : 0.7639 \n",
      "recall : 0.7097, f1 : 0.7639 \n",
      "recall : 0.7097, f1 : 0.7639 \n",
      "recall : 0.7097, f1 : 0.7639 \n",
      "recall : 0.7097, f1 : 0.7639 \n",
      "recall : 0.7097, f1 : 0.7639 \n",
      "recall : 0.7097, f1 : 0.7639 \n",
      "recall : 0.7097, f1 : 0.7639 \n",
      "recall : 0.7097, f1 : 0.7639 \n",
      "recall : 0.7097, f1 : 0.7639 \n",
      "recall : 0.7097, f1 : 0.7639 \n",
      "recall : 0.7097, f1 : 0.7639 \n",
      "recall : 0.7097, f1 : 0.768 \n",
      "recall : 0.7097, f1 : 0.768 \n",
      "recall : 0.7097, f1 : 0.768 \n",
      "recall : 0.7097, f1 : 0.768 \n",
      "recall : 0.7097, f1 : 0.768 \n",
      "recall : 0.7097, f1 : 0.768 \n",
      "recall : 0.7097, f1 : 0.768 \n",
      "recall : 0.7097, f1 : 0.768 \n",
      "recall : 0.7097, f1 : 0.768 \n",
      "recall : 0.7097, f1 : 0.768 \n",
      "recall : 0.7097, f1 : 0.768 \n",
      "recall : 0.7097, f1 : 0.768 \n",
      "recall : 0.7097, f1 : 0.768 \n",
      "recall : 0.7097, f1 : 0.768 \n",
      "recall : 0.7097, f1 : 0.768 \n",
      "recall : 0.7097, f1 : 0.76 \n",
      "recall : 0.7097, f1 : 0.76 \n",
      "recall : 0.7097, f1 : 0.76 \n",
      "recall : 0.7097, f1 : 0.76 \n",
      "recall : 0.7097, f1 : 0.76 \n",
      "recall : 0.7097, f1 : 0.76 \n",
      "recall : 0.7097, f1 : 0.76 \n",
      "recall : 0.7097, f1 : 0.76 \n",
      "recall : 0.7097, f1 : 0.76 \n",
      "recall : 0.7097, f1 : 0.76 \n",
      "recall : 0.7097, f1 : 0.76 \n",
      "recall : 0.7097, f1 : 0.76 \n",
      "recall : 0.7097, f1 : 0.76 \n",
      "recall : 0.7222, f1 : 0.7675 \n",
      "recall : 0.7222, f1 : 0.7675 \n",
      "recall : 0.7222, f1 : 0.7675 \n",
      "recall : 0.7222, f1 : 0.7675 \n",
      "recall : 0.7222, f1 : 0.7675 \n",
      "recall : 0.7222, f1 : 0.7675 \n",
      "recall : 0.7222, f1 : 0.7675 \n",
      "recall : 0.7222, f1 : 0.7675 \n",
      "recall : 0.7222, f1 : 0.7675 \n",
      "recall : 0.7222, f1 : 0.7675 \n",
      "recall : 0.7222, f1 : 0.7675 \n",
      "recall : 0.7222, f1 : 0.7675 \n",
      "recall : 0.7222, f1 : 0.7675 \n",
      "recall : 0.7222, f1 : 0.7675 \n"
     ]
    }
   ],
   "source": [
    "C_values: np.ndarray = np.arange(1, 100, 1)\n",
    "best_C = C_values[0]\n",
    "best_C_recall = 0\n",
    "for C in C_values:\n",
    "    estimator0 = SVC(C=C, random_state=random_state)\n",
    "    scores = cross_validate_model(estimator0, scoring, X_train, y_train, cv)\n",
    "    if np.mean(scores['test_recall']) > best_C_recall:\n",
    "        best_C_recall = np.mean(scores['test_recall'])\n",
    "        best_C = C\n",
    "\n"
   ]
  },
  {
   "cell_type": "code",
   "execution_count": 45,
   "metadata": {},
   "outputs": [
    {
     "name": "stdout",
     "output_type": "stream",
     "text": [
      "Best C : 86\n",
      "Best C recall : 0.7222222222222221\n"
     ]
    }
   ],
   "source": [
    "print(f\"Best C : {best_C}\")\n",
    "print(f\"Best C recall : {best_C_recall}\")"
   ]
  },
  {
   "cell_type": "markdown",
   "metadata": {},
   "source": [
    "Now let's train the model with the best parameters."
   ]
  },
  {
   "cell_type": "code",
   "execution_count": 46,
   "metadata": {},
   "outputs": [],
   "source": [
    "models = {\n",
    "    \"DT\": DecisionTreeClassifier(max_depth=best_max_depth, min_samples_split=best_min_samples_split, min_samples_leaf=best_min_samples_leaf, max_leaf_nodes=best_max_leaf_nodes, max_features=best_max_features, criterion=best_criterion, random_state=random_state),\n",
    "    \"SVM\": SVC(C=best_C, random_state=random_state)\n",
    "}"
   ]
  },
  {
   "cell_type": "code",
   "execution_count": 47,
   "metadata": {},
   "outputs": [
    {
     "name": "stdout",
     "output_type": "stream",
     "text": [
      "DT: 94.22 %\n",
      "              precision    recall  f1-score   support\n",
      "\n",
      "          -1       0.95      0.99      0.97       142\n",
      "           1       0.92      0.74      0.82        31\n",
      "\n",
      "    accuracy                           0.94       173\n",
      "   macro avg       0.93      0.86      0.89       173\n",
      "weighted avg       0.94      0.94      0.94       173\n",
      "\n",
      "SVM: 93.64 %\n",
      "              precision    recall  f1-score   support\n",
      "\n",
      "          -1       0.97      0.95      0.96       151\n",
      "           1       0.72      0.82      0.77        22\n",
      "\n",
      "    accuracy                           0.94       173\n",
      "   macro avg       0.85      0.89      0.86       173\n",
      "weighted avg       0.94      0.94      0.94       173\n",
      "\n"
     ]
    }
   ],
   "source": [
    "train_and_evaluate(models, X_train, y_train, X_test, y_test)"
   ]
  },
  {
   "cell_type": "code",
   "execution_count": 36,
   "metadata": {},
   "outputs": [
    {
     "data": {
      "image/png": "[encoded data removed]",
      "text/plain": [
       "<Figure size 1200x500 with 4 Axes>"
      ]
     },
     "metadata": {},
     "output_type": "display_data"
    }
   ],
   "source": [
    "draw_confusion_matrices(class_names, models, X_test, y_test)"
   ]
  },
  {
   "cell_type": "markdown",
   "metadata": {},
   "source": [
    "## ROC Curve"
   ]
  },
  {
   "cell_type": "code",
   "execution_count": 40,
   "metadata": {},
   "outputs": [],
   "source": [
    "def draw_rocs(models: dict, X_test: np.ndarray, y_test: np.ndarray):\n",
    "    plt.style.use(\"_mpl-gallery-nogrid\")\n",
    "\n",
    "    fig, axes = plt.subplots(math.ceil(len(models)/2), (len(models)//2)+1, figsize=(((len(models)//2)+1) * 6, math.ceil(len(models)/2) * 5))\n",
    "    plt.subplots_adjust(hspace=0.2)\n",
    "\n",
    "    np.set_printoptions(precision=2)\n",
    "\n",
    "    for ((model_name, estimator), ax) in zip(models.items(), axes.flatten()):\n",
    "        disp = RocCurveDisplay.from_estimator(\n",
    "            estimator,\n",
    "            X_test,\n",
    "            y_test,\n",
    "            ax=ax\n",
    "        )\n",
    "        disp.ax_.set_title(model_name)\n",
    "\n",
    "    plt.show()"
   ]
  },
  {
   "cell_type": "code",
   "execution_count": 41,
   "metadata": {},
   "outputs": [
    {
     "data": {
      "image/png": "[encoded data removed]",
      "text/plain": [
       "<Figure size 1200x500 with 2 Axes>"
      ]
     },
     "metadata": {},
     "output_type": "display_data"
    }
   ],
   "source": [
    "draw_rocs(models, X_test, y_test)"
   ]
  },
  {
   "cell_type": "markdown",
   "metadata": {},
   "source": [
    "## Weights Visualization"
   ]
  },
  {
   "cell_type": "code",
   "execution_count": 39,
   "metadata": {},
   "outputs": [],
   "source": [
    "# plt.style.use(\"_mpl-gallery-nogrid\")\n",
    "\n",
    "# fig, axes = plt.subplots((len(models)//2)+1, 2, figsize=(10, 10))\n",
    "# plt.subplots_adjust(hspace=0.2)\n",
    "\n",
    "\n",
    "# plt.show()"
   ]
  },
  {
   "cell_type": "markdown",
   "metadata": {},
   "source": [
    "## Conclusion"
   ]
  },
  {
   "cell_type": "markdown",
   "metadata": {},
   "source": [
    "SVM model is better than DT model although Decision Trees model has a higher accuracy rate. SVM model has a higher Recall score for the positive class (COVID-19 positive) which is what we are interested in."
   ]
  }
 ],
 "metadata": {
  "kernelspec": {
   "display_name": "Python 3",
   "language": "python",
   "name": "python3"
  },
  "language_info": {
   "codemirror_mode": {
    "name": "ipython",
    "version": 3
   },
   "file_extension": ".py",
   "mimetype": "text/x-python",
   "name": "python",
   "nbconvert_exporter": "python",
   "pygments_lexer": "ipython3",
   "version": "3.11.4"
  }
 },
 "nbformat": 4,
 "nbformat_minor": 2
}
